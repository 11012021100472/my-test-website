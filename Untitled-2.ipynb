{
 "cells": [
  {
   "cell_type": "code",
   "execution_count": null,
   "metadata": {},
   "outputs": [],
   "source": [
    "<!-- Google Analytics 4 -->\n",
    "<script async src=\"https://www.googletagmanager.com/gtag/js?id=G-TE27RPVM83\"></script>\n",
    "<script>\n",
    "    window.dataLayer = window.dataLayer || [];\n",
    "    function gtag(){dataLayer.push(arguments);}\n",
    "    gtag('js', new Date());\n",
    "\n",
    "    gtag('config', 'G-TE27RPVM83');\n",
    "</script>"
   ]
  }
 ],
 "metadata": {
  "language_info": {
   "name": "python"
  }
 },
 "nbformat": 4,
 "nbformat_minor": 2
}
