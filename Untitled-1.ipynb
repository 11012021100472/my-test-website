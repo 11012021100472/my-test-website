{
 "cells": [
  {
   "cell_type": "code",
   "execution_count": null,
   "metadata": {},
   "outputs": [],
   "source": [
    "<!DOCTYPE html>\n",
    "<html lang=\"en\">\n",
    "<head>\n",
    "    <meta charset=\"UTF-8\">\n",
    "    <meta name=\"viewport\" content=\"width=device-width, initial-scale=1.0\">\n",
    "    <title>Test GTM & GA4</title>\n",
    "    \n",
    "    <!-- Google Tag Manager -->\n",
    "    <script>\n",
    "        (function(w,d,s,l,i){\n",
    "            w[l]=w[l]||[];w[l].push({'gtm.start': new Date().getTime(),event:'gtm.js'});\n",
    "            var f=d.getElementsByTagName(s)[0], j=d.createElement(s), dl=l!='dataLayer'?'&l='+l:'';\n",
    "            j.async=true;\n",
    "            j.src='https://www.googletagmanager.com/gtm.js?id=' + i + dl;\n",
    "            f.parentNode.insertBefore(j,f);\n",
    "        })(window,document,'script','dataLayer','GTM-TNFHFNRW'); \n",
    "    </script>\n",
    "    <!-- End Google Tag Manager -->\n",
    "\n",
    "</head>\n",
    "<body>\n",
    "\n",
    "    <h1>Testing GTM & GA4</h1>\n",
    "    <p>This is a dummy website to test GTM and GA4.</p>\n",
    "\n",
    "    <button onclick=\"alert('Button Clicked')\">Click Me</button>\n",
    "\n",
    "</body>\n",
    "</html>"
   ]
  }
 ],
 "metadata": {
  "language_info": {
   "name": "python"
  }
 },
 "nbformat": 4,
 "nbformat_minor": 2
}
